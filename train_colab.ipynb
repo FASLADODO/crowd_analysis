{
  "nbformat": 4,
  "nbformat_minor": 0,
  "metadata": {
    "colab": {
      "name": "train_model.ipynb",
      "provenance": [],
      "toc_visible": true,
      "include_colab_link": true
    },
    "kernelspec": {
      "name": "python3",
      "display_name": "Python 3"
    },
    "accelerator": "GPU"
  },
  "cells": [
    {
      "cell_type": "markdown",
      "metadata": {
        "id": "view-in-github",
        "colab_type": "text"
      },
      "source": [
        "<a href=\"https://colab.research.google.com/github/tempdata73/crowd_analysis/blob/master/train_colab.ipynb\" target=\"_parent\"><img src=\"https://colab.research.google.com/assets/colab-badge.svg\" alt=\"Open In Colab\"/></a>"
      ]
    },
    {
      "cell_type": "markdown",
      "metadata": {
        "id": "imABng0dsrwP",
        "colab_type": "text"
      },
      "source": [
        "# CSRNet: Congested Scene Recognition Network\n",
        "The purpose of this notebook is to train a CSRNet with the help of GPU instances."
      ]
    },
    {
      "cell_type": "code",
      "metadata": {
        "id": "KNdQNhT2xRhW",
        "colab_type": "code",
        "colab": {}
      },
      "source": [
        "!pip install PyDrive -qq"
      ],
      "execution_count": 0,
      "outputs": []
    },
    {
      "cell_type": "code",
      "metadata": {
        "colab_type": "code",
        "outputId": "d1f5e0f3-4ac2-40c6-c0f9-d97cca5faf85",
        "id": "cEVbIUQa31fv",
        "colab": {
          "base_uri": "https://localhost:8080/",
          "height": 161
        }
      },
      "source": [
        "import os\n",
        "from getpass import getpass\n",
        "\n",
        "user = input('User: ')\n",
        "password = getpass('Password: ')\n",
        "GIT_AUTH = user + ':' + password\n",
        "\n",
        "!git clone https://$GIT_AUTH@github.com/$user/crowd_estimation.git"
      ],
      "execution_count": 0,
      "outputs": [
        {
          "output_type": "stream",
          "text": [
            "User: tempdata73\n",
            "Password: ··········\n",
            "Cloning into 'crowd_estimation'...\n",
            "remote: Enumerating objects: 67, done.\u001b[K\n",
            "remote: Counting objects: 100% (67/67), done.\u001b[K\n",
            "remote: Compressing objects: 100% (45/45), done.\u001b[K\n",
            "remote: Total 67 (delta 27), reused 55 (delta 18), pack-reused 0\u001b[K\n",
            "Unpacking objects: 100% (67/67), done.\n"
          ],
          "name": "stdout"
        }
      ]
    },
    {
      "cell_type": "code",
      "metadata": {
        "id": "gJ5dZqsqZGN7",
        "colab_type": "code",
        "outputId": "362909d6-d774-4160-f992-9d59f7ba0a8a",
        "colab": {
          "base_uri": "https://localhost:8080/",
          "height": 35
        }
      },
      "source": [
        "%cd crowd_estimation"
      ],
      "execution_count": 0,
      "outputs": [
        {
          "output_type": "stream",
          "text": [
            "/content/crowd_estimation\n"
          ],
          "name": "stdout"
        }
      ]
    },
    {
      "cell_type": "code",
      "metadata": {
        "id": "Ha9l1tnSxkCg",
        "colab_type": "code",
        "colab": {}
      },
      "source": [
        "import os\n",
        "from pydrive.auth import GoogleAuth\n",
        "from pydrive.drive import GoogleDrive\n",
        "from google.colab import auth\n",
        "from oauth2client.client import GoogleCredentials"
      ],
      "execution_count": 0,
      "outputs": []
    },
    {
      "cell_type": "code",
      "metadata": {
        "id": "rJ6-XWCrx2-d",
        "colab_type": "code",
        "colab": {}
      },
      "source": [
        "auth.authenticate_user()\n",
        "gauth = GoogleAuth()\n",
        "gauth.credentials = GoogleCredentials.get_application_default()\n",
        "drive = GoogleDrive(gauth)"
      ],
      "execution_count": 0,
      "outputs": []
    },
    {
      "cell_type": "code",
      "metadata": {
        "id": "DoeThDOYyQ_F",
        "colab_type": "code",
        "colab": {}
      },
      "source": [
        "FILE_ID = '1FKTNDuK8-IlvufVMW8ymP_onPYhJNYL1'\n",
        "FILENAME = 'shanghai_dataset.zip'\n",
        "DST_DIR = 'Shanghai'\n",
        "\n",
        "download = drive.CreateFile({'id': FILE_ID})\n",
        "download.GetContentFile(FILENAME)"
      ],
      "execution_count": 0,
      "outputs": []
    },
    {
      "cell_type": "code",
      "metadata": {
        "id": "qKDBHQW3yQ2C",
        "colab_type": "code",
        "colab": {}
      },
      "source": [
        "from zipfile import ZipFile\n",
        "\n",
        "ZipFile(FILENAME).extractall(DST_DIR)"
      ],
      "execution_count": 0,
      "outputs": []
    },
    {
      "cell_type": "code",
      "metadata": {
        "id": "Cm4BY3gRXZuM",
        "colab_type": "code",
        "colab": {}
      },
      "source": [
        "!rm shanghai_dataset.zip"
      ],
      "execution_count": 0,
      "outputs": []
    },
    {
      "cell_type": "markdown",
      "metadata": {
        "id": "qC3OGuvAcLUa",
        "colab_type": "text"
      },
      "source": [
        "## Density map generation"
      ]
    },
    {
      "cell_type": "code",
      "metadata": {
        "id": "4IFILD5JcLDx",
        "colab_type": "code",
        "outputId": "547cc1ad-2c8a-435b-8366-45ee9618b4ca",
        "colab": {
          "base_uri": "https://localhost:8080/",
          "height": 215
        }
      },
      "source": [
        "import time\n",
        "start_time = time.time()\n",
        "!python make_dataset.py Shanghai/ Shanghai_A\n",
        "end_time = time.time()\n",
        "print('Density map generation took {:0.2f} secs'.format(end_time - start_time))"
      ],
      "execution_count": 0,
      "outputs": [
        {
          "output_type": "stream",
          "text": [
            "INFO:root:Creating Shanghai/part_B_final/train_data/densities directory\n",
            "INFO:root:Processed 0 images\n",
            "INFO:root:Processed 100 images\n",
            "INFO:root:Processed 200 images\n",
            "INFO:root:Processed 300 images\n",
            "INFO:root:Creating Shanghai/part_B_final/test_data/densities directory\n",
            "INFO:root:Processed 0 images\n",
            "INFO:root:Processed 100 images\n",
            "INFO:root:Processed 200 images\n",
            "INFO:root:Processed 300 images\n",
            "Density map generation took 106.35 secs\n"
          ],
          "name": "stdout"
        }
      ]
    },
    {
      "cell_type": "code",
      "metadata": {
        "id": "Er_o7vyiXODE",
        "colab_type": "code",
        "outputId": "1df337b0-b75f-4e32-abd1-83471af36113",
        "colab": {
          "base_uri": "https://localhost:8080/",
          "height": 1000
        }
      },
      "source": [
        "!python train.py part_A/trainval.json part_A/test.json"
      ],
      "execution_count": 0,
      "outputs": [
        {
          "output_type": "stream",
          "text": [
            "INFO:root:Using cuda:0 device for training\n",
            "INFO:root:Building model\n",
            "Downloading: \"https://download.pytorch.org/models/vgg16-397923af.pth\" to /root/.cache/torch/checkpoints/vgg16-397923af.pth\n",
            "100% 528M/528M [00:24<00:00, 22.8MB/s]\n",
            "INFO:root:Training model\n",
            "INFO:root:Epoch [0/400] (0/400) Time = 0.02, Total time = 0.02 Current loss = 11.037, Avg loss = 11.037\n",
            "INFO:root:Epoch [0/400] (100/400) Time = 0.00, Total time = 0.27 Current loss = 1.951, Avg loss = 12.701\n",
            "INFO:root:Epoch [0/400] (200/400) Time = 0.00, Total time = 0.53 Current loss = 2.381, Avg loss = 14.080\n",
            "INFO:root:Epoch [0/400] (300/400) Time = 0.00, Total time = 0.77 Current loss = 3.519, Avg loss = 15.161\n",
            "INFO:root:Evaluating model...\n",
            "INFO:root:Mean average Error (MAE) = 75.9799\n",
            "INFO:root:Checkpoint created\n",
            "INFO:root:Saving loss data in data/loss_data.json\n",
            "INFO:root:Epoch [1/400] (0/400) Time = 0.00, Total time = 0.00 Current loss = 26.772, Avg loss = 26.772\n",
            "INFO:root:Epoch [1/400] (100/400) Time = 0.00, Total time = 0.25 Current loss = 4.359, Avg loss = 16.860\n",
            "INFO:root:Epoch [1/400] (200/400) Time = 0.00, Total time = 0.50 Current loss = 8.828, Avg loss = 15.030\n",
            "INFO:root:Epoch [1/400] (300/400) Time = 0.00, Total time = 0.74 Current loss = 3.154, Avg loss = 13.835\n",
            "INFO:root:Evaluating model...\n",
            "INFO:root:Mean average Error (MAE) = 64.5566\n",
            "INFO:root:Checkpoint created\n",
            "INFO:root:Saving loss data in data/loss_data.json\n",
            "INFO:root:Epoch [2/400] (0/400) Time = 0.00, Total time = 0.00 Current loss = 2.776, Avg loss = 2.776\n",
            "INFO:root:Epoch [2/400] (100/400) Time = 0.00, Total time = 0.25 Current loss = 1.587, Avg loss = 9.039\n",
            "INFO:root:Epoch [2/400] (200/400) Time = 0.00, Total time = 0.49 Current loss = 9.726, Avg loss = 10.341\n",
            "INFO:root:Epoch [2/400] (300/400) Time = 0.00, Total time = 0.74 Current loss = 3.775, Avg loss = 9.159\n",
            "INFO:root:Evaluating model...\n",
            "INFO:root:Mean average Error (MAE) = 41.4263\n",
            "INFO:root:Checkpoint created\n",
            "INFO:root:Saving loss data in data/loss_data.json\n",
            "INFO:root:Epoch [3/400] (0/400) Time = 0.00, Total time = 0.00 Current loss = 3.876, Avg loss = 3.876\n",
            "INFO:root:Epoch [3/400] (100/400) Time = 0.00, Total time = 0.25 Current loss = 1.202, Avg loss = 6.485\n",
            "INFO:root:Epoch [3/400] (200/400) Time = 0.00, Total time = 0.50 Current loss = 1.551, Avg loss = 5.821\n",
            "INFO:root:Epoch [3/400] (300/400) Time = 0.00, Total time = 0.75 Current loss = 0.617, Avg loss = 5.280\n",
            "INFO:root:Evaluating model...\n",
            "INFO:root:Mean average Error (MAE) = 35.8309\n",
            "INFO:root:Checkpoint created\n",
            "INFO:root:Saving loss data in data/loss_data.json\n",
            "INFO:root:Epoch [4/400] (0/400) Time = 0.00, Total time = 0.00 Current loss = 0.911, Avg loss = 0.911\n",
            "INFO:root:Epoch [4/400] (100/400) Time = 0.00, Total time = 0.25 Current loss = 0.406, Avg loss = 4.426\n",
            "INFO:root:Epoch [4/400] (200/400) Time = 0.00, Total time = 0.49 Current loss = 1.449, Avg loss = 4.772\n",
            "INFO:root:Epoch [4/400] (300/400) Time = 0.00, Total time = 0.73 Current loss = 0.498, Avg loss = 4.613\n",
            "INFO:root:Evaluating model...\n",
            "INFO:root:Mean average Error (MAE) = 20.4829\n",
            "INFO:root:Checkpoint created\n",
            "INFO:root:Saving loss data in data/loss_data.json\n",
            "INFO:root:Epoch [5/400] (0/400) Time = 0.00, Total time = 0.00 Current loss = 1.887, Avg loss = 1.887\n",
            "INFO:root:Epoch [5/400] (100/400) Time = 0.00, Total time = 0.25 Current loss = 0.384, Avg loss = 2.773\n",
            "INFO:root:Epoch [5/400] (200/400) Time = 0.00, Total time = 0.49 Current loss = 1.201, Avg loss = 3.748\n",
            "INFO:root:Epoch [5/400] (300/400) Time = 0.00, Total time = 0.74 Current loss = 7.963, Avg loss = 3.833\n",
            "INFO:root:Evaluating model...\n",
            "INFO:root:Mean average Error (MAE) = 24.4321\n",
            "INFO:root:Saving loss data in data/loss_data.json\n",
            "INFO:root:Epoch [6/400] (0/400) Time = 0.00, Total time = 0.00 Current loss = 0.972, Avg loss = 0.972\n",
            "INFO:root:Epoch [6/400] (100/400) Time = 0.00, Total time = 0.25 Current loss = 1.717, Avg loss = 3.094\n",
            "INFO:root:Epoch [6/400] (200/400) Time = 0.00, Total time = 0.50 Current loss = 1.351, Avg loss = 3.131\n",
            "INFO:root:Epoch [6/400] (300/400) Time = 0.00, Total time = 0.74 Current loss = 3.603, Avg loss = 3.401\n",
            "INFO:root:Evaluating model...\n",
            "INFO:root:Mean average Error (MAE) = 21.6195\n",
            "INFO:root:Saving loss data in data/loss_data.json\n",
            "INFO:root:Epoch [7/400] (0/400) Time = 0.00, Total time = 0.00 Current loss = 0.827, Avg loss = 0.827\n",
            "INFO:root:Epoch [7/400] (100/400) Time = 0.00, Total time = 0.25 Current loss = 1.667, Avg loss = 4.843\n",
            "INFO:root:Epoch [7/400] (200/400) Time = 0.00, Total time = 0.49 Current loss = 2.974, Avg loss = 4.012\n",
            "INFO:root:Epoch [7/400] (300/400) Time = 0.00, Total time = 0.74 Current loss = 1.234, Avg loss = 3.744\n",
            "INFO:root:Evaluating model...\n",
            "INFO:root:Mean average Error (MAE) = 38.4196\n",
            "INFO:root:Saving loss data in data/loss_data.json\n",
            "INFO:root:Epoch [8/400] (0/400) Time = 0.00, Total time = 0.00 Current loss = 0.620, Avg loss = 0.620\n",
            "INFO:root:Epoch [8/400] (100/400) Time = 0.00, Total time = 0.25 Current loss = 4.524, Avg loss = 3.303\n",
            "INFO:root:Epoch [8/400] (200/400) Time = 0.00, Total time = 0.49 Current loss = 0.981, Avg loss = 3.330\n",
            "INFO:root:Epoch [8/400] (300/400) Time = 0.00, Total time = 0.73 Current loss = 3.950, Avg loss = 3.122\n",
            "INFO:root:Evaluating model...\n",
            "INFO:root:Mean average Error (MAE) = 11.6721\n",
            "INFO:root:Checkpoint created\n",
            "INFO:root:Saving loss data in data/loss_data.json\n",
            "INFO:root:Epoch [9/400] (0/400) Time = 0.00, Total time = 0.00 Current loss = 1.781, Avg loss = 1.781\n",
            "INFO:root:Epoch [9/400] (100/400) Time = 0.00, Total time = 0.25 Current loss = 0.295, Avg loss = 2.134\n",
            "INFO:root:Epoch [9/400] (200/400) Time = 0.00, Total time = 0.49 Current loss = 1.289, Avg loss = 2.553\n",
            "INFO:root:Epoch [9/400] (300/400) Time = 0.00, Total time = 0.74 Current loss = 11.600, Avg loss = 2.608\n",
            "INFO:root:Evaluating model...\n",
            "INFO:root:Mean average Error (MAE) = 38.9749\n",
            "INFO:root:Saving loss data in data/loss_data.json\n",
            "INFO:root:Epoch [10/400] (0/400) Time = 0.00, Total time = 0.00 Current loss = 0.434, Avg loss = 0.434\n",
            "INFO:root:Epoch [10/400] (100/400) Time = 0.00, Total time = 0.25 Current loss = 2.120, Avg loss = 3.750\n",
            "INFO:root:Epoch [10/400] (200/400) Time = 0.00, Total time = 0.49 Current loss = 1.786, Avg loss = 3.380\n",
            "INFO:root:Epoch [10/400] (300/400) Time = 0.00, Total time = 0.75 Current loss = 1.958, Avg loss = 3.150\n",
            "INFO:root:Evaluating model...\n",
            "INFO:root:Mean average Error (MAE) = 16.2109\n",
            "INFO:root:Saving loss data in data/loss_data.json\n",
            "INFO:root:Epoch [11/400] (0/400) Time = 0.00, Total time = 0.00 Current loss = 11.677, Avg loss = 11.677\n",
            "INFO:root:Epoch [11/400] (100/400) Time = 0.00, Total time = 0.25 Current loss = 0.649, Avg loss = 2.944\n",
            "INFO:root:Epoch [11/400] (200/400) Time = 0.00, Total time = 0.50 Current loss = 1.380, Avg loss = 2.501\n",
            "INFO:root:Epoch [11/400] (300/400) Time = 0.00, Total time = 0.75 Current loss = 0.840, Avg loss = 2.569\n",
            "INFO:root:Evaluating model...\n",
            "INFO:root:Mean average Error (MAE) = 21.2889\n",
            "INFO:root:Saving loss data in data/loss_data.json\n",
            "INFO:root:Epoch [12/400] (0/400) Time = 0.00, Total time = 0.00 Current loss = 0.618, Avg loss = 0.618\n",
            "INFO:root:Epoch [12/400] (100/400) Time = 0.00, Total time = 0.24 Current loss = 0.528, Avg loss = 3.585\n",
            "INFO:root:Epoch [12/400] (200/400) Time = 0.00, Total time = 0.49 Current loss = 20.874, Avg loss = 2.908\n",
            "INFO:root:Epoch [12/400] (300/400) Time = 0.00, Total time = 0.73 Current loss = 3.492, Avg loss = 2.889\n",
            "INFO:root:Evaluating model...\n",
            "INFO:root:Mean average Error (MAE) = 11.4668\n",
            "INFO:root:Checkpoint created\n",
            "INFO:root:Saving loss data in data/loss_data.json\n",
            "INFO:root:Epoch [13/400] (0/400) Time = 0.00, Total time = 0.00 Current loss = 0.666, Avg loss = 0.666\n",
            "INFO:root:Epoch [13/400] (100/400) Time = 0.00, Total time = 0.25 Current loss = 1.857, Avg loss = 2.494\n",
            "INFO:root:Epoch [13/400] (200/400) Time = 0.00, Total time = 0.49 Current loss = 1.241, Avg loss = 2.576\n",
            "INFO:root:Epoch [13/400] (300/400) Time = 0.00, Total time = 0.74 Current loss = 1.117, Avg loss = 2.571\n",
            "INFO:root:Evaluating model...\n",
            "INFO:root:Mean average Error (MAE) = 13.5343\n",
            "INFO:root:Saving loss data in data/loss_data.json\n",
            "INFO:root:Epoch [14/400] (0/400) Time = 0.00, Total time = 0.00 Current loss = 1.811, Avg loss = 1.811\n",
            "INFO:root:Epoch [14/400] (100/400) Time = 0.00, Total time = 0.25 Current loss = 0.191, Avg loss = 2.513\n",
            "INFO:root:Epoch [14/400] (200/400) Time = 0.00, Total time = 0.49 Current loss = 0.878, Avg loss = 2.464\n",
            "INFO:root:Epoch [14/400] (300/400) Time = 0.00, Total time = 0.73 Current loss = 1.826, Avg loss = 2.540\n",
            "INFO:root:Evaluating model...\n",
            "INFO:root:Mean average Error (MAE) = 21.3002\n",
            "INFO:root:Saving loss data in data/loss_data.json\n",
            "INFO:root:Epoch [15/400] (0/400) Time = 0.00, Total time = 0.00 Current loss = 0.459, Avg loss = 0.459\n",
            "INFO:root:Epoch [15/400] (100/400) Time = 0.00, Total time = 0.25 Current loss = 1.537, Avg loss = 2.423\n",
            "INFO:root:Epoch [15/400] (200/400) Time = 0.00, Total time = 0.49 Current loss = 4.217, Avg loss = 2.931\n",
            "INFO:root:Epoch [15/400] (300/400) Time = 0.00, Total time = 0.74 Current loss = 1.155, Avg loss = 2.712\n",
            "INFO:root:Evaluating model...\n",
            "INFO:root:Mean average Error (MAE) = 75.0530\n",
            "INFO:root:Saving loss data in data/loss_data.json\n",
            "INFO:root:Epoch [16/400] (0/400) Time = 0.00, Total time = 0.00 Current loss = 3.256, Avg loss = 3.256\n",
            "INFO:root:Epoch [16/400] (100/400) Time = 0.00, Total time = 0.24 Current loss = 1.462, Avg loss = 2.689\n",
            "INFO:root:Epoch [16/400] (200/400) Time = 0.00, Total time = 0.48 Current loss = 1.699, Avg loss = 2.448\n",
            "INFO:root:Epoch [16/400] (300/400) Time = 0.00, Total time = 0.72 Current loss = 2.848, Avg loss = 2.345\n",
            "INFO:root:Evaluating model...\n",
            "INFO:root:Mean average Error (MAE) = 11.7103\n",
            "INFO:root:Saving loss data in data/loss_data.json\n",
            "INFO:root:Epoch [17/400] (0/400) Time = 0.00, Total time = 0.00 Current loss = 2.076, Avg loss = 2.076\n",
            "INFO:root:Epoch [17/400] (100/400) Time = 0.00, Total time = 0.24 Current loss = 0.960, Avg loss = 2.234\n",
            "INFO:root:Epoch [17/400] (200/400) Time = 0.00, Total time = 0.48 Current loss = 6.140, Avg loss = 2.154\n",
            "INFO:root:Epoch [17/400] (300/400) Time = 0.00, Total time = 0.72 Current loss = 1.631, Avg loss = 2.306\n",
            "INFO:root:Evaluating model...\n",
            "INFO:root:Mean average Error (MAE) = 32.0865\n",
            "INFO:root:Saving loss data in data/loss_data.json\n",
            "INFO:root:Epoch [18/400] (0/400) Time = 0.00, Total time = 0.00 Current loss = 1.312, Avg loss = 1.312\n",
            "INFO:root:Epoch [18/400] (100/400) Time = 0.00, Total time = 0.24 Current loss = 1.754, Avg loss = 2.031\n",
            "INFO:root:Epoch [18/400] (200/400) Time = 0.00, Total time = 0.49 Current loss = 12.360, Avg loss = 2.281\n",
            "INFO:root:Epoch [18/400] (300/400) Time = 0.00, Total time = 0.74 Current loss = 0.594, Avg loss = 2.354\n",
            "INFO:root:Evaluating model...\n",
            "INFO:root:Mean average Error (MAE) = 13.8169\n",
            "INFO:root:Saving loss data in data/loss_data.json\n",
            "INFO:root:Epoch [19/400] (0/400) Time = 0.00, Total time = 0.00 Current loss = 0.836, Avg loss = 0.836\n",
            "INFO:root:Epoch [19/400] (100/400) Time = 0.00, Total time = 0.25 Current loss = 1.209, Avg loss = 1.958\n",
            "INFO:root:Epoch [19/400] (200/400) Time = 0.00, Total time = 0.49 Current loss = 3.236, Avg loss = 2.014\n",
            "INFO:root:Epoch [19/400] (300/400) Time = 0.00, Total time = 0.73 Current loss = 3.526, Avg loss = 2.087\n",
            "INFO:root:Evaluating model...\n",
            "INFO:root:Mean average Error (MAE) = 18.0887\n",
            "INFO:root:Saving loss data in data/loss_data.json\n",
            "INFO:root:Epoch [20/400] (0/400) Time = 0.00, Total time = 0.00 Current loss = 6.432, Avg loss = 6.432\n",
            "INFO:root:Epoch [20/400] (100/400) Time = 0.00, Total time = 0.24 Current loss = 2.097, Avg loss = 2.030\n",
            "INFO:root:Epoch [20/400] (200/400) Time = 0.00, Total time = 0.49 Current loss = 0.954, Avg loss = 2.435\n",
            "INFO:root:Epoch [20/400] (300/400) Time = 0.00, Total time = 0.72 Current loss = 0.376, Avg loss = 2.321\n",
            "INFO:root:Evaluating model...\n",
            "INFO:root:Mean average Error (MAE) = 16.2148\n",
            "INFO:root:Saving loss data in data/loss_data.json\n",
            "INFO:root:Epoch [21/400] (0/400) Time = 0.00, Total time = 0.00 Current loss = 0.751, Avg loss = 0.751\n",
            "INFO:root:Epoch [21/400] (100/400) Time = 0.00, Total time = 0.24 Current loss = 5.318, Avg loss = 1.991\n",
            "INFO:root:Epoch [21/400] (200/400) Time = 0.00, Total time = 0.49 Current loss = 2.812, Avg loss = 2.458\n",
            "INFO:root:Epoch [21/400] (300/400) Time = 0.00, Total time = 0.73 Current loss = 3.110, Avg loss = 2.950\n",
            "INFO:root:Evaluating model...\n",
            "INFO:root:Mean average Error (MAE) = 47.0764\n",
            "INFO:root:Saving loss data in data/loss_data.json\n",
            "INFO:root:Epoch [22/400] (0/400) Time = 0.00, Total time = 0.00 Current loss = 8.302, Avg loss = 8.302\n",
            "INFO:root:Epoch [22/400] (100/400) Time = 0.00, Total time = 0.24 Current loss = 1.068, Avg loss = 1.744\n",
            "INFO:root:Epoch [22/400] (200/400) Time = 0.00, Total time = 0.48 Current loss = 4.992, Avg loss = 1.951\n",
            "INFO:root:Epoch [22/400] (300/400) Time = 0.00, Total time = 0.72 Current loss = 6.360, Avg loss = 2.033\n",
            "INFO:root:Evaluating model...\n",
            "INFO:root:Mean average Error (MAE) = 18.7395\n",
            "INFO:root:Saving loss data in data/loss_data.json\n",
            "INFO:root:Epoch [23/400] (0/400) Time = 0.00, Total time = 0.00 Current loss = 0.253, Avg loss = 0.253\n",
            "INFO:root:Epoch [23/400] (100/400) Time = 0.00, Total time = 0.24 Current loss = 0.604, Avg loss = 1.931\n",
            "INFO:root:Epoch [23/400] (200/400) Time = 0.00, Total time = 0.48 Current loss = 0.604, Avg loss = 2.026\n",
            "INFO:root:Epoch [23/400] (300/400) Time = 0.00, Total time = 0.73 Current loss = 0.541, Avg loss = 2.016\n",
            "INFO:root:Evaluating model...\n",
            "INFO:root:Mean average Error (MAE) = 10.9725\n",
            "INFO:root:Checkpoint created\n",
            "INFO:root:Saving loss data in data/loss_data.json\n",
            "INFO:root:Epoch [24/400] (0/400) Time = 0.00, Total time = 0.00 Current loss = 0.775, Avg loss = 0.775\n",
            "INFO:root:Epoch [24/400] (100/400) Time = 0.00, Total time = 0.24 Current loss = 5.125, Avg loss = 1.771\n",
            "INFO:root:Epoch [24/400] (200/400) Time = 0.00, Total time = 0.47 Current loss = 1.077, Avg loss = 1.751\n",
            "INFO:root:Epoch [24/400] (300/400) Time = 0.00, Total time = 0.70 Current loss = 1.437, Avg loss = 1.828\n",
            "INFO:root:Evaluating model...\n",
            "INFO:root:Mean average Error (MAE) = 43.4197\n",
            "INFO:root:Saving loss data in data/loss_data.json\n",
            "INFO:root:Epoch [25/400] (0/400) Time = 0.00, Total time = 0.00 Current loss = 0.844, Avg loss = 0.844\n",
            "INFO:root:Epoch [25/400] (100/400) Time = 0.00, Total time = 0.23 Current loss = 0.498, Avg loss = 1.979\n",
            "INFO:root:Epoch [25/400] (200/400) Time = 0.00, Total time = 0.46 Current loss = 2.725, Avg loss = 2.181\n",
            "INFO:root:Epoch [25/400] (300/400) Time = 0.00, Total time = 0.70 Current loss = 0.146, Avg loss = 1.947\n",
            "INFO:root:Evaluating model...\n",
            "INFO:root:Mean average Error (MAE) = 9.3503\n",
            "INFO:root:Checkpoint created\n",
            "INFO:root:Saving loss data in data/loss_data.json\n",
            "INFO:root:Epoch [26/400] (0/400) Time = 0.00, Total time = 0.00 Current loss = 0.596, Avg loss = 0.596\n",
            "INFO:root:Epoch [26/400] (100/400) Time = 0.00, Total time = 0.23 Current loss = 2.101, Avg loss = 1.720\n",
            "INFO:root:Epoch [26/400] (200/400) Time = 0.00, Total time = 0.46 Current loss = 14.157, Avg loss = 1.820\n",
            "INFO:root:Epoch [26/400] (300/400) Time = 0.00, Total time = 0.70 Current loss = 0.702, Avg loss = 2.459\n",
            "INFO:root:Evaluating model...\n",
            "INFO:root:Mean average Error (MAE) = 29.0473\n",
            "INFO:root:Saving loss data in data/loss_data.json\n",
            "INFO:root:Epoch [27/400] (0/400) Time = 0.00, Total time = 0.00 Current loss = 0.471, Avg loss = 0.471\n",
            "INFO:root:Epoch [27/400] (100/400) Time = 0.00, Total time = 0.25 Current loss = 2.744, Avg loss = 2.335\n",
            "INFO:root:Epoch [27/400] (200/400) Time = 0.00, Total time = 0.49 Current loss = 0.698, Avg loss = 2.428\n",
            "INFO:root:Epoch [27/400] (300/400) Time = 0.00, Total time = 0.73 Current loss = 0.548, Avg loss = 2.201\n",
            "INFO:root:Evaluating model...\n",
            "INFO:root:Mean average Error (MAE) = 15.7258\n",
            "INFO:root:Saving loss data in data/loss_data.json\n",
            "INFO:root:Epoch [28/400] (0/400) Time = 0.00, Total time = 0.00 Current loss = 0.179, Avg loss = 0.179\n",
            "INFO:root:Epoch [28/400] (100/400) Time = 0.00, Total time = 0.25 Current loss = 0.364, Avg loss = 1.744\n",
            "INFO:root:Epoch [28/400] (200/400) Time = 0.00, Total time = 0.50 Current loss = 0.134, Avg loss = 1.842\n",
            "INFO:root:Epoch [28/400] (300/400) Time = 0.00, Total time = 0.75 Current loss = 5.118, Avg loss = 1.899\n",
            "INFO:root:Evaluating model...\n",
            "INFO:root:Mean average Error (MAE) = 10.2677\n",
            "INFO:root:Saving loss data in data/loss_data.json\n",
            "INFO:root:Epoch [29/400] (0/400) Time = 0.00, Total time = 0.00 Current loss = 6.037, Avg loss = 6.037\n",
            "INFO:root:Epoch [29/400] (100/400) Time = 0.00, Total time = 0.25 Current loss = 3.374, Avg loss = 2.250\n",
            "INFO:root:Epoch [29/400] (200/400) Time = 0.00, Total time = 0.50 Current loss = 0.448, Avg loss = 1.906\n",
            "INFO:root:Epoch [29/400] (300/400) Time = 0.00, Total time = 0.75 Current loss = 3.239, Avg loss = 1.953\n",
            "INFO:root:Evaluating model...\n",
            "INFO:root:Mean average Error (MAE) = 10.8509\n",
            "INFO:root:Saving loss data in data/loss_data.json\n",
            "INFO:root:Epoch [30/400] (0/400) Time = 0.00, Total time = 0.00 Current loss = 0.475, Avg loss = 0.475\n",
            "INFO:root:Epoch [30/400] (100/400) Time = 0.00, Total time = 0.26 Current loss = 4.713, Avg loss = 1.398\n",
            "INFO:root:Epoch [30/400] (200/400) Time = 0.00, Total time = 0.50 Current loss = 1.737, Avg loss = 1.593\n",
            "INFO:root:Epoch [30/400] (300/400) Time = 0.00, Total time = 0.75 Current loss = 0.372, Avg loss = 1.750\n",
            "INFO:root:Evaluating model...\n",
            "INFO:root:Mean average Error (MAE) = 20.8049\n",
            "INFO:root:Saving loss data in data/loss_data.json\n",
            "INFO:root:Epoch [31/400] (0/400) Time = 0.00, Total time = 0.00 Current loss = 0.343, Avg loss = 0.343\n",
            "INFO:root:Epoch [31/400] (100/400) Time = 0.00, Total time = 0.25 Current loss = 0.995, Avg loss = 1.816\n",
            "INFO:root:Epoch [31/400] (200/400) Time = 0.00, Total time = 0.50 Current loss = 1.208, Avg loss = 1.840\n",
            "INFO:root:Epoch [31/400] (300/400) Time = 0.00, Total time = 0.75 Current loss = 1.215, Avg loss = 1.813\n",
            "INFO:root:Evaluating model...\n",
            "INFO:root:Mean average Error (MAE) = 29.5526\n",
            "INFO:root:Saving loss data in data/loss_data.json\n",
            "INFO:root:Epoch [32/400] (0/400) Time = 0.00, Total time = 0.00 Current loss = 0.539, Avg loss = 0.539\n",
            "INFO:root:Epoch [32/400] (100/400) Time = 0.00, Total time = 0.25 Current loss = 0.589, Avg loss = 1.970\n",
            "INFO:root:Epoch [32/400] (200/400) Time = 0.00, Total time = 0.51 Current loss = 4.815, Avg loss = 1.692\n",
            "INFO:root:Epoch [32/400] (300/400) Time = 0.00, Total time = 0.76 Current loss = 1.612, Avg loss = 1.657\n",
            "INFO:root:Evaluating model...\n",
            "INFO:root:Mean average Error (MAE) = 10.5329\n",
            "INFO:root:Saving loss data in data/loss_data.json\n",
            "INFO:root:Epoch [33/400] (0/400) Time = 0.00, Total time = 0.00 Current loss = 0.181, Avg loss = 0.181\n",
            "INFO:root:Epoch [33/400] (100/400) Time = 0.00, Total time = 0.25 Current loss = 0.333, Avg loss = 2.215\n",
            "INFO:root:Epoch [33/400] (200/400) Time = 0.00, Total time = 0.50 Current loss = 1.297, Avg loss = 2.063\n",
            "INFO:root:Epoch [33/400] (300/400) Time = 0.00, Total time = 0.75 Current loss = 0.764, Avg loss = 1.791\n",
            "INFO:root:Evaluating model...\n",
            "INFO:root:Mean average Error (MAE) = 41.8259\n",
            "INFO:root:Saving loss data in data/loss_data.json\n",
            "INFO:root:Epoch [34/400] (0/400) Time = 0.00, Total time = 0.00 Current loss = 0.430, Avg loss = 0.430\n",
            "INFO:root:Epoch [34/400] (100/400) Time = 0.00, Total time = 0.25 Current loss = 0.803, Avg loss = 1.702\n",
            "INFO:root:Epoch [34/400] (200/400) Time = 0.00, Total time = 0.50 Current loss = 1.249, Avg loss = 1.669\n",
            "INFO:root:Epoch [34/400] (300/400) Time = 0.00, Total time = 0.75 Current loss = 3.280, Avg loss = 2.194\n",
            "INFO:root:Evaluating model...\n",
            "INFO:root:Mean average Error (MAE) = 15.5079\n",
            "INFO:root:Saving loss data in data/loss_data.json\n",
            "INFO:root:Epoch [35/400] (0/400) Time = 0.00, Total time = 0.00 Current loss = 1.518, Avg loss = 1.518\n",
            "INFO:root:Epoch [35/400] (100/400) Time = 0.00, Total time = 0.25 Current loss = 0.249, Avg loss = 1.448\n",
            "INFO:root:Epoch [35/400] (200/400) Time = 0.00, Total time = 0.50 Current loss = 2.024, Avg loss = 1.763\n",
            "INFO:root:Epoch [35/400] (300/400) Time = 0.00, Total time = 0.75 Current loss = 1.581, Avg loss = 1.732\n",
            "INFO:root:Evaluating model...\n",
            "INFO:root:Mean average Error (MAE) = 14.9042\n",
            "INFO:root:Saving loss data in data/loss_data.json\n",
            "INFO:root:Epoch [36/400] (0/400) Time = 0.00, Total time = 0.00 Current loss = 0.602, Avg loss = 0.602\n",
            "INFO:root:Epoch [36/400] (100/400) Time = 0.00, Total time = 0.26 Current loss = 0.741, Avg loss = 1.830\n",
            "INFO:root:Epoch [36/400] (200/400) Time = 0.00, Total time = 0.51 Current loss = 1.109, Avg loss = 1.630\n",
            "INFO:root:Epoch [36/400] (300/400) Time = 0.00, Total time = 0.76 Current loss = 0.750, Avg loss = 1.608\n",
            "INFO:root:Evaluating model...\n",
            "INFO:root:Mean average Error (MAE) = 12.0426\n",
            "INFO:root:Saving loss data in data/loss_data.json\n",
            "INFO:root:Epoch [37/400] (0/400) Time = 0.00, Total time = 0.00 Current loss = 0.608, Avg loss = 0.608\n",
            "INFO:root:Epoch [37/400] (100/400) Time = 0.00, Total time = 0.25 Current loss = 0.797, Avg loss = 1.867\n",
            "INFO:root:Epoch [37/400] (200/400) Time = 0.00, Total time = 0.52 Current loss = 0.535, Avg loss = 1.651\n",
            "INFO:root:Epoch [37/400] (300/400) Time = 0.00, Total time = 0.77 Current loss = 2.205, Avg loss = 1.553\n",
            "INFO:root:Evaluating model...\n",
            "INFO:root:Mean average Error (MAE) = 34.0525\n",
            "INFO:root:Saving loss data in data/loss_data.json\n",
            "INFO:root:Epoch [38/400] (0/400) Time = 0.00, Total time = 0.00 Current loss = 1.574, Avg loss = 1.574\n",
            "INFO:root:Epoch [38/400] (100/400) Time = 0.00, Total time = 0.25 Current loss = 3.753, Avg loss = 1.885\n",
            "INFO:root:Epoch [38/400] (200/400) Time = 0.00, Total time = 0.51 Current loss = 0.760, Avg loss = 1.707\n",
            "INFO:root:Epoch [38/400] (300/400) Time = 0.00, Total time = 0.76 Current loss = 1.363, Avg loss = 1.625\n",
            "INFO:root:Evaluating model...\n",
            "INFO:root:Mean average Error (MAE) = 9.5473\n",
            "INFO:root:Saving loss data in data/loss_data.json\n",
            "INFO:root:Epoch [39/400] (0/400) Time = 0.00, Total time = 0.00 Current loss = 2.090, Avg loss = 2.090\n",
            "INFO:root:Epoch [39/400] (100/400) Time = 0.00, Total time = 0.25 Current loss = 9.999, Avg loss = 1.434\n",
            "INFO:root:Epoch [39/400] (200/400) Time = 0.00, Total time = 0.50 Current loss = 3.031, Avg loss = 1.575\n",
            "INFO:root:Epoch [39/400] (300/400) Time = 0.00, Total time = 0.74 Current loss = 0.317, Avg loss = 1.536\n",
            "INFO:root:Evaluating model...\n",
            "INFO:root:Mean average Error (MAE) = 13.8158\n",
            "INFO:root:Saving loss data in data/loss_data.json\n",
            "INFO:root:Epoch [40/400] (0/400) Time = 0.00, Total time = 0.00 Current loss = 1.479, Avg loss = 1.479\n",
            "INFO:root:Epoch [40/400] (100/400) Time = 0.00, Total time = 0.26 Current loss = 2.361, Avg loss = 1.473\n",
            "INFO:root:Epoch [40/400] (200/400) Time = 0.00, Total time = 0.52 Current loss = 0.557, Avg loss = 1.646\n",
            "INFO:root:Epoch [40/400] (300/400) Time = 0.00, Total time = 0.77 Current loss = 1.343, Avg loss = 1.571\n",
            "INFO:root:Evaluating model...\n",
            "INFO:root:Mean average Error (MAE) = 21.7125\n",
            "INFO:root:Saving loss data in data/loss_data.json\n",
            "INFO:root:Epoch [41/400] (0/400) Time = 0.00, Total time = 0.00 Current loss = 0.485, Avg loss = 0.485\n",
            "INFO:root:Epoch [41/400] (100/400) Time = 0.00, Total time = 0.25 Current loss = 1.818, Avg loss = 1.724\n",
            "INFO:root:Epoch [41/400] (200/400) Time = 0.00, Total time = 0.50 Current loss = 0.356, Avg loss = 1.540\n",
            "INFO:root:Epoch [41/400] (300/400) Time = 0.00, Total time = 0.76 Current loss = 1.949, Avg loss = 1.491\n",
            "INFO:root:Evaluating model...\n",
            "INFO:root:Mean average Error (MAE) = 14.3384\n",
            "INFO:root:Saving loss data in data/loss_data.json\n",
            "INFO:root:Epoch [42/400] (0/400) Time = 0.00, Total time = 0.00 Current loss = 4.429, Avg loss = 4.429\n",
            "INFO:root:Epoch [42/400] (100/400) Time = 0.00, Total time = 0.26 Current loss = 2.417, Avg loss = 1.591\n",
            "INFO:root:Epoch [42/400] (200/400) Time = 0.00, Total time = 0.51 Current loss = 2.256, Avg loss = 1.362\n",
            "INFO:root:Epoch [42/400] (300/400) Time = 0.00, Total time = 0.76 Current loss = 1.417, Avg loss = 1.364\n",
            "INFO:root:Evaluating model...\n",
            "INFO:root:Mean average Error (MAE) = 14.6908\n",
            "INFO:root:Saving loss data in data/loss_data.json\n",
            "INFO:root:Epoch [43/400] (0/400) Time = 0.00, Total time = 0.00 Current loss = 1.567, Avg loss = 1.567\n",
            "INFO:root:Epoch [43/400] (100/400) Time = 0.00, Total time = 0.26 Current loss = 0.807, Avg loss = 1.184\n",
            "INFO:root:Epoch [43/400] (200/400) Time = 0.00, Total time = 0.51 Current loss = 1.255, Avg loss = 1.342\n",
            "INFO:root:Epoch [43/400] (300/400) Time = 0.00, Total time = 0.76 Current loss = 3.279, Avg loss = 1.450\n",
            "INFO:root:Evaluating model...\n",
            "INFO:root:Mean average Error (MAE) = 14.3157\n",
            "INFO:root:Saving loss data in data/loss_data.json\n",
            "INFO:root:Epoch [44/400] (0/400) Time = 0.00, Total time = 0.00 Current loss = 1.587, Avg loss = 1.587\n",
            "INFO:root:Epoch [44/400] (100/400) Time = 0.00, Total time = 0.26 Current loss = 0.760, Avg loss = 1.542\n",
            "INFO:root:Epoch [44/400] (200/400) Time = 0.00, Total time = 0.51 Current loss = 0.274, Avg loss = 1.534\n",
            "INFO:root:Epoch [44/400] (300/400) Time = 0.00, Total time = 0.77 Current loss = 4.057, Avg loss = 1.610\n",
            "INFO:root:Evaluating model...\n",
            "INFO:root:Mean average Error (MAE) = 8.2509\n",
            "INFO:root:Checkpoint created\n",
            "INFO:root:Saving loss data in data/loss_data.json\n",
            "INFO:root:Epoch [45/400] (0/400) Time = 0.00, Total time = 0.00 Current loss = 0.690, Avg loss = 0.690\n",
            "INFO:root:Epoch [45/400] (100/400) Time = 0.00, Total time = 0.26 Current loss = 0.406, Avg loss = 1.178\n",
            "INFO:root:Epoch [45/400] (200/400) Time = 0.00, Total time = 0.51 Current loss = 0.951, Avg loss = 1.571\n",
            "INFO:root:Epoch [45/400] (300/400) Time = 0.00, Total time = 0.76 Current loss = 2.060, Avg loss = 1.716\n",
            "INFO:root:Evaluating model...\n",
            "INFO:root:Mean average Error (MAE) = 9.0578\n",
            "INFO:root:Saving loss data in data/loss_data.json\n",
            "INFO:root:Epoch [46/400] (0/400) Time = 0.00, Total time = 0.00 Current loss = 0.445, Avg loss = 0.445\n",
            "INFO:root:Epoch [46/400] (100/400) Time = 0.00, Total time = 0.26 Current loss = 0.786, Avg loss = 1.256\n",
            "INFO:root:Epoch [46/400] (200/400) Time = 0.00, Total time = 0.51 Current loss = 0.114, Avg loss = 1.323\n",
            "INFO:root:Epoch [46/400] (300/400) Time = 0.00, Total time = 0.77 Current loss = 2.137, Avg loss = 1.546\n",
            "INFO:root:Evaluating model...\n",
            "INFO:root:Mean average Error (MAE) = 64.0060\n",
            "INFO:root:Saving loss data in data/loss_data.json\n",
            "INFO:root:Epoch [47/400] (0/400) Time = 0.00, Total time = 0.00 Current loss = 0.450, Avg loss = 0.450\n",
            "INFO:root:Epoch [47/400] (100/400) Time = 0.00, Total time = 0.26 Current loss = 2.582, Avg loss = 1.568\n",
            "INFO:root:Epoch [47/400] (200/400) Time = 0.00, Total time = 0.51 Current loss = 0.393, Avg loss = 1.702\n",
            "INFO:root:Epoch [47/400] (300/400) Time = 0.00, Total time = 0.76 Current loss = 2.620, Avg loss = 1.649\n",
            "INFO:root:Evaluating model...\n",
            "INFO:root:Mean average Error (MAE) = 17.6163\n",
            "INFO:root:Saving loss data in data/loss_data.json\n",
            "INFO:root:Epoch [48/400] (0/400) Time = 0.00, Total time = 0.00 Current loss = 0.895, Avg loss = 0.895\n",
            "INFO:root:Epoch [48/400] (100/400) Time = 0.00, Total time = 0.25 Current loss = 0.230, Avg loss = 1.348\n",
            "INFO:root:Epoch [48/400] (200/400) Time = 0.00, Total time = 0.51 Current loss = 0.426, Avg loss = 1.286\n",
            "INFO:root:Epoch [48/400] (300/400) Time = 0.00, Total time = 0.76 Current loss = 2.104, Avg loss = 1.613\n",
            "INFO:root:Evaluating model...\n",
            "INFO:root:Mean average Error (MAE) = 33.2175\n",
            "INFO:root:Saving loss data in data/loss_data.json\n",
            "INFO:root:Epoch [49/400] (0/400) Time = 0.00, Total time = 0.00 Current loss = 2.416, Avg loss = 2.416\n",
            "INFO:root:Epoch [49/400] (100/400) Time = 0.00, Total time = 0.25 Current loss = 3.121, Avg loss = 1.456\n",
            "INFO:root:Epoch [49/400] (200/400) Time = 0.00, Total time = 0.50 Current loss = 0.714, Avg loss = 1.346\n",
            "INFO:root:Epoch [49/400] (300/400) Time = 0.00, Total time = 0.75 Current loss = 4.404, Avg loss = 1.473\n",
            "INFO:root:Evaluating model...\n",
            "INFO:root:Mean average Error (MAE) = 10.6543\n",
            "INFO:root:Saving loss data in data/loss_data.json\n",
            "INFO:root:Epoch [50/400] (0/400) Time = 0.00, Total time = 0.00 Current loss = 2.177, Avg loss = 2.177\n",
            "INFO:root:Epoch [50/400] (100/400) Time = 0.00, Total time = 0.26 Current loss = 0.643, Avg loss = 1.298\n",
            "INFO:root:Epoch [50/400] (200/400) Time = 0.00, Total time = 0.51 Current loss = 1.514, Avg loss = 1.403\n",
            "INFO:root:Epoch [50/400] (300/400) Time = 0.00, Total time = 0.76 Current loss = 0.144, Avg loss = 1.478\n",
            "INFO:root:Evaluating model...\n",
            "INFO:root:Mean average Error (MAE) = 9.8356\n",
            "INFO:root:Saving loss data in data/loss_data.json\n",
            "INFO:root:Epoch [51/400] (0/400) Time = 0.00, Total time = 0.00 Current loss = 0.148, Avg loss = 0.148\n",
            "INFO:root:Epoch [51/400] (100/400) Time = 0.00, Total time = 0.26 Current loss = 0.341, Avg loss = 1.322\n",
            "INFO:root:Epoch [51/400] (200/400) Time = 0.00, Total time = 0.52 Current loss = 0.659, Avg loss = 1.431\n",
            "INFO:root:Epoch [51/400] (300/400) Time = 0.00, Total time = 0.77 Current loss = 2.225, Avg loss = 1.378\n",
            "INFO:root:Evaluating model...\n",
            "INFO:root:Mean average Error (MAE) = 91.0895\n",
            "INFO:root:Saving loss data in data/loss_data.json\n",
            "INFO:root:Epoch [52/400] (0/400) Time = 0.00, Total time = 0.00 Current loss = 3.543, Avg loss = 3.543\n",
            "INFO:root:Epoch [52/400] (100/400) Time = 0.00, Total time = 0.24 Current loss = 1.236, Avg loss = 2.894\n",
            "INFO:root:Epoch [52/400] (200/400) Time = 0.00, Total time = 0.48 Current loss = 3.690, Avg loss = 3.182\n",
            "INFO:root:Epoch [52/400] (300/400) Time = 0.00, Total time = 0.72 Current loss = 7.798, Avg loss = 3.022\n",
            "INFO:root:Evaluating model...\n",
            "INFO:root:Mean average Error (MAE) = 13.0182\n",
            "INFO:root:Saving loss data in data/loss_data.json\n",
            "INFO:root:Epoch [53/400] (0/400) Time = 0.00, Total time = 0.00 Current loss = 0.115, Avg loss = 0.115\n",
            "INFO:root:Epoch [53/400] (100/400) Time = 0.00, Total time = 0.24 Current loss = 0.284, Avg loss = 1.349\n",
            "INFO:root:Epoch [53/400] (200/400) Time = 0.00, Total time = 0.48 Current loss = 4.668, Avg loss = 1.571\n",
            "INFO:root:Epoch [53/400] (300/400) Time = 0.00, Total time = 0.73 Current loss = 0.534, Avg loss = 1.546\n",
            "INFO:root:Evaluating model...\n",
            "INFO:root:Mean average Error (MAE) = 12.7211\n",
            "INFO:root:Saving loss data in data/loss_data.json\n",
            "INFO:root:Epoch [54/400] (0/400) Time = 0.00, Total time = 0.00 Current loss = 0.195, Avg loss = 0.195\n",
            "INFO:root:Epoch [54/400] (100/400) Time = 0.00, Total time = 0.26 Current loss = 0.953, Avg loss = 1.422\n",
            "INFO:root:Epoch [54/400] (200/400) Time = 0.00, Total time = 0.51 Current loss = 1.850, Avg loss = 1.369\n",
            "INFO:root:Epoch [54/400] (300/400) Time = 0.00, Total time = 0.76 Current loss = 0.358, Avg loss = 1.471\n",
            "INFO:root:Evaluating model...\n",
            "INFO:root:Mean average Error (MAE) = 8.8530\n",
            "INFO:root:Saving loss data in data/loss_data.json\n",
            "INFO:root:Epoch [55/400] (0/400) Time = 0.00, Total time = 0.00 Current loss = 4.185, Avg loss = 4.185\n",
            "INFO:root:Epoch [55/400] (100/400) Time = 0.00, Total time = 0.26 Current loss = 6.445, Avg loss = 1.828\n",
            "INFO:root:Epoch [55/400] (200/400) Time = 0.00, Total time = 0.51 Current loss = 1.461, Avg loss = 1.457\n",
            "INFO:root:Epoch [55/400] (300/400) Time = 0.00, Total time = 0.77 Current loss = 1.950, Avg loss = 1.323\n",
            "INFO:root:Evaluating model...\n",
            "INFO:root:Mean average Error (MAE) = 8.1747\n",
            "INFO:root:Checkpoint created\n",
            "INFO:root:Saving loss data in data/loss_data.json\n",
            "INFO:root:Epoch [56/400] (0/400) Time = 0.01, Total time = 0.01 Current loss = 0.333, Avg loss = 0.333\n",
            "INFO:root:Epoch [56/400] (100/400) Time = 0.00, Total time = 0.27 Current loss = 0.804, Avg loss = 1.536\n",
            "INFO:root:Epoch [56/400] (200/400) Time = 0.00, Total time = 0.52 Current loss = 2.380, Avg loss = 1.507\n",
            "INFO:root:Epoch [56/400] (300/400) Time = 0.00, Total time = 0.77 Current loss = 0.211, Avg loss = 1.393\n",
            "INFO:root:Evaluating model...\n",
            "INFO:root:Mean average Error (MAE) = 12.2768\n",
            "INFO:root:Saving loss data in data/loss_data.json\n",
            "INFO:root:Epoch [57/400] (0/400) Time = 0.00, Total time = 0.00 Current loss = 0.294, Avg loss = 0.294\n",
            "INFO:root:Epoch [57/400] (100/400) Time = 0.00, Total time = 0.25 Current loss = 0.235, Avg loss = 1.464\n",
            "Traceback (most recent call last):\n",
            "  File \"train.py\", line 183, in <module>\n",
            "    main(parse_arguments(sys.argv[1:]))\n",
            "  File \"train.py\", line 116, in main\n",
            "    loss_info.append(loss.item())\n",
            "KeyboardInterrupt\n"
          ],
          "name": "stdout"
        }
      ]
    },
    {
      "cell_type": "markdown",
      "metadata": {
        "id": "PWtG-sopZcS4",
        "colab_type": "text"
      },
      "source": [
        "## Model tests"
      ]
    },
    {
      "cell_type": "code",
      "metadata": {
        "id": "M4fQJgI0ZUTx",
        "colab_type": "code",
        "outputId": "fca83f06-a7b0-4b21-f930-cda605493cfd",
        "colab": {
          "base_uri": "https://localhost:8080/",
          "height": 35
        }
      },
      "source": [
        "import torch\n",
        "import os\n",
        "\n",
        "device = 'cuda:0' if torch.cuda.is_available() else 'cpu'\n",
        "CKPT_DIR = 'ckpts'\n",
        "models = []\n",
        "\n",
        "for model_fn in os.listdir(CKPT_DIR):\n",
        "  if model_fn == 'model.pth.tar':\n",
        "    continue\n",
        "  model_path = os.path.join(CKPT_DIR, model_fn)\n",
        "  ckpt = torch.load(model_path, map_location=torch.device(device))\n",
        "  models.append((model_path, ckpt['loss']))\n",
        "\n",
        "models = sorted(models, key=lambda loss: loss[1], reverse=False)\n",
        "model_path = models[0][0]\n",
        "print(model_path)"
      ],
      "execution_count": 0,
      "outputs": [
        {
          "output_type": "stream",
          "text": [
            "ckpts/model-8.17.pth.tar\n"
          ],
          "name": "stdout"
        }
      ]
    },
    {
      "cell_type": "code",
      "metadata": {
        "id": "pAs71HOhKiiH",
        "colab_type": "code",
        "outputId": "23ea94b9-2268-4fd3-b429-94e5e7ec577f",
        "colab": {
          "base_uri": "https://localhost:8080/",
          "height": 179
        }
      },
      "source": [
        "!python validation.py $model_path part_A/test.json"
      ],
      "execution_count": 0,
      "outputs": [
        {
          "output_type": "stream",
          "text": [
            "INFO:root:Evaluating using cuda:0 device\n",
            "INFO:root:Evaluating on 316 images\n",
            "INFO:root:Building model\n",
            "INFO:root:Starting evaluation\n",
            "INFO:root:Image:0:Error:2.2095:SquaredError:4.8819\tMAE = 2.2095\tMSE = 2.2095\n",
            "INFO:root:Image:100:Error:3.6945:SquaredError:13.6497\tMAE = 9.5756\tMSE = 14.9662\n",
            "INFO:root:Image:200:Error:2.9186:SquaredError:8.5181\tMAE = 10.3117\tMSE = 15.8385\n",
            "INFO:root:Image:300:Error:2.4286:SquaredError:5.8980\tMAE = 10.5338\tMSE = 16.2580\n",
            "INFO:root:Metrics saved in data/metrics.json\n"
          ],
          "name": "stdout"
        }
      ]
    },
    {
      "cell_type": "code",
      "metadata": {
        "id": "5QXfW5lSr_V5",
        "colab_type": "code",
        "outputId": "8d67591b-8b95-41a0-8b99-dd7ed3fa2108",
        "colab": {
          "base_uri": "https://localhost:8080/",
          "height": 71
        }
      },
      "source": [
        "import json\n",
        "\n",
        "with open('data/metrics.json') as infile:\n",
        "  data = json.load(infile)\n",
        "\n",
        "data"
      ],
      "execution_count": 0,
      "outputs": [
        {
          "output_type": "execute_result",
          "data": {
            "text/plain": [
              "{'mae': 10.611205546161797,\n",
              " 'mse': 16.28243121657331,\n",
              " 'ssim': 0.976537851188304}"
            ]
          },
          "metadata": {
            "tags": []
          },
          "execution_count": 13
        }
      ]
    },
    {
      "cell_type": "code",
      "metadata": {
        "id": "etscb0CHAIxs",
        "colab_type": "code",
        "colab": {}
      },
      "source": [
        "# Last epoch did not necessarily yield best model\n",
        "# Fix data according to that\n",
        "\n",
        "ckpt = torch.load(model_path, map_location=torch.device(device))\n",
        "last_epoch = ckpt['epoch']\n",
        "\n",
        "with open('data/loss_data.json') as infile:\n",
        "  loss = json.load(infile)\n",
        "\n",
        "last_ckpt_loss_data = {'train_mae': loss['train_mae'][:last_epoch], 'val_mae': loss['val_mae'][:last_epoch]}\n",
        "\n",
        "with open('data/loss_data.json', 'w') as outfile:\n",
        "  json.dump(last_ckpt_loss_data, outfile)"
      ],
      "execution_count": 0,
      "outputs": []
    },
    {
      "cell_type": "code",
      "metadata": {
        "id": "fok2K6zE1KwN",
        "colab_type": "code",
        "colab": {}
      },
      "source": [
        "# Download model and data\n",
        "from google.colab import files\n",
        "\n",
        "files.download(model_path)\n",
        "files.download('data/metrics.json')\n",
        "files.download('data/loss_data.json')"
      ],
      "execution_count": 0,
      "outputs": []
    }
  ]
}